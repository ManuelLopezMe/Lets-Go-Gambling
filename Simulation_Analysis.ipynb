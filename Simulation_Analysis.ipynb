{
 "cells": [
  {
   "cell_type": "markdown",
   "id": "ca30f125",
   "metadata": {},
   "source": [
    "## Data Cleaning\n",
    "\n",
    "Using a test run dataset, I show how json data was extracted and converted into read dataframes"
   ]
  },
  {
   "cell_type": "code",
   "execution_count": 1,
   "id": "bae3809a",
   "metadata": {},
   "outputs": [],
   "source": [
    "import json\n",
    "import pandas as pd"
   ]
  },
  {
   "cell_type": "code",
   "execution_count": 47,
   "id": "8adfdc7c",
   "metadata": {},
   "outputs": [],
   "source": [
    "with open('data/test-run.json', 'r') as file:\n",
    "    data = json.load(file)"
   ]
  },
  {
   "cell_type": "code",
   "execution_count": 48,
   "id": "812bb5b1",
   "metadata": {},
   "outputs": [
    {
     "data": {
      "text/plain": [
       "[{'number_of_runs': 2, 'number_of_simulation_iterations': 500},\n",
       " {'final_bankroll': 70,\n",
       "  'rounds_played': 5,\n",
       "  'initial_bankroll': 100,\n",
       "  'round_outcomes': [5, -5, -5, -5, 5]},\n",
       " {'final_bankroll': 50,\n",
       "  'rounds_played': 5,\n",
       "  'initial_bankroll': 100,\n",
       "  'round_outcomes': [-5, -5, -5, -5, -5]}]"
      ]
     },
     "execution_count": 48,
     "metadata": {},
     "output_type": "execute_result"
    }
   ],
   "source": [
    "data"
   ]
  },
  {
   "cell_type": "code",
   "execution_count": 49,
   "id": "da48455b",
   "metadata": {},
   "outputs": [
    {
     "data": {
      "application/vnd.microsoft.datawrangler.viewer.v0+json": {
       "columns": [
        {
         "name": "index",
         "rawType": "int64",
         "type": "integer"
        },
        {
         "name": "number_of_runs",
         "rawType": "float64",
         "type": "float"
        },
        {
         "name": "number_of_simulation_iterations",
         "rawType": "float64",
         "type": "float"
        },
        {
         "name": "final_bankroll",
         "rawType": "float64",
         "type": "float"
        },
        {
         "name": "rounds_played",
         "rawType": "float64",
         "type": "float"
        },
        {
         "name": "initial_bankroll",
         "rawType": "float64",
         "type": "float"
        },
        {
         "name": "round_outcomes",
         "rawType": "object",
         "type": "unknown"
        }
       ],
       "conversionMethod": "pd.DataFrame",
       "ref": "d921dc3b-16b2-4a1b-a5bc-f56102f456f4",
       "rows": [
        [
         "0",
         "2.0",
         "500.0",
         null,
         null,
         null,
         null
        ],
        [
         "1",
         null,
         null,
         "70.0",
         "5.0",
         "100.0",
         "[5, -5, -5, -5, 5]"
        ],
        [
         "2",
         null,
         null,
         "50.0",
         "5.0",
         "100.0",
         "[-5, -5, -5, -5, -5]"
        ]
       ],
       "shape": {
        "columns": 6,
        "rows": 3
       }
      },
      "text/html": [
       "<div>\n",
       "<style scoped>\n",
       "    .dataframe tbody tr th:only-of-type {\n",
       "        vertical-align: middle;\n",
       "    }\n",
       "\n",
       "    .dataframe tbody tr th {\n",
       "        vertical-align: top;\n",
       "    }\n",
       "\n",
       "    .dataframe thead th {\n",
       "        text-align: right;\n",
       "    }\n",
       "</style>\n",
       "<table border=\"1\" class=\"dataframe\">\n",
       "  <thead>\n",
       "    <tr style=\"text-align: right;\">\n",
       "      <th></th>\n",
       "      <th>number_of_runs</th>\n",
       "      <th>number_of_simulation_iterations</th>\n",
       "      <th>final_bankroll</th>\n",
       "      <th>rounds_played</th>\n",
       "      <th>initial_bankroll</th>\n",
       "      <th>round_outcomes</th>\n",
       "    </tr>\n",
       "  </thead>\n",
       "  <tbody>\n",
       "    <tr>\n",
       "      <th>0</th>\n",
       "      <td>2.0</td>\n",
       "      <td>500.0</td>\n",
       "      <td>NaN</td>\n",
       "      <td>NaN</td>\n",
       "      <td>NaN</td>\n",
       "      <td>NaN</td>\n",
       "    </tr>\n",
       "    <tr>\n",
       "      <th>1</th>\n",
       "      <td>NaN</td>\n",
       "      <td>NaN</td>\n",
       "      <td>70.0</td>\n",
       "      <td>5.0</td>\n",
       "      <td>100.0</td>\n",
       "      <td>[5, -5, -5, -5, 5]</td>\n",
       "    </tr>\n",
       "    <tr>\n",
       "      <th>2</th>\n",
       "      <td>NaN</td>\n",
       "      <td>NaN</td>\n",
       "      <td>50.0</td>\n",
       "      <td>5.0</td>\n",
       "      <td>100.0</td>\n",
       "      <td>[-5, -5, -5, -5, -5]</td>\n",
       "    </tr>\n",
       "  </tbody>\n",
       "</table>\n",
       "</div>"
      ],
      "text/plain": [
       "   number_of_runs  number_of_simulation_iterations  final_bankroll  \\\n",
       "0             2.0                            500.0             NaN   \n",
       "1             NaN                              NaN            70.0   \n",
       "2             NaN                              NaN            50.0   \n",
       "\n",
       "   rounds_played  initial_bankroll        round_outcomes  \n",
       "0            NaN               NaN                   NaN  \n",
       "1            5.0             100.0    [5, -5, -5, -5, 5]  \n",
       "2            5.0             100.0  [-5, -5, -5, -5, -5]  "
      ]
     },
     "execution_count": 49,
     "metadata": {},
     "output_type": "execute_result"
    }
   ],
   "source": [
    "df = pd.read_json('data/test-run.json')\n",
    "df"
   ]
  },
  {
   "cell_type": "code",
   "execution_count": 50,
   "id": "78d6cf75",
   "metadata": {},
   "outputs": [
    {
     "data": {
      "application/vnd.microsoft.datawrangler.viewer.v0+json": {
       "columns": [
        {
         "name": "index",
         "rawType": "int64",
         "type": "integer"
        },
        {
         "name": "number_of_runs",
         "rawType": "float64",
         "type": "float"
        },
        {
         "name": "number_of_simulation_iterations",
         "rawType": "float64",
         "type": "float"
        }
       ],
       "conversionMethod": "pd.DataFrame",
       "ref": "7f84fb40-c0ea-4f66-baeb-544c0f9fa757",
       "rows": [
        [
         "0",
         "2.0",
         "500.0"
        ]
       ],
       "shape": {
        "columns": 2,
        "rows": 1
       }
      },
      "text/html": [
       "<div>\n",
       "<style scoped>\n",
       "    .dataframe tbody tr th:only-of-type {\n",
       "        vertical-align: middle;\n",
       "    }\n",
       "\n",
       "    .dataframe tbody tr th {\n",
       "        vertical-align: top;\n",
       "    }\n",
       "\n",
       "    .dataframe thead th {\n",
       "        text-align: right;\n",
       "    }\n",
       "</style>\n",
       "<table border=\"1\" class=\"dataframe\">\n",
       "  <thead>\n",
       "    <tr style=\"text-align: right;\">\n",
       "      <th></th>\n",
       "      <th>number_of_runs</th>\n",
       "      <th>number_of_simulation_iterations</th>\n",
       "    </tr>\n",
       "  </thead>\n",
       "  <tbody>\n",
       "    <tr>\n",
       "      <th>0</th>\n",
       "      <td>2.0</td>\n",
       "      <td>500.0</td>\n",
       "    </tr>\n",
       "  </tbody>\n",
       "</table>\n",
       "</div>"
      ],
      "text/plain": [
       "   number_of_runs  number_of_simulation_iterations\n",
       "0             2.0                            500.0"
      ]
     },
     "execution_count": 50,
     "metadata": {},
     "output_type": "execute_result"
    }
   ],
   "source": [
    "metadata = df[['number_of_runs', 'number_of_simulation_iterations']].dropna()\n",
    "metadata"
   ]
  },
  {
   "cell_type": "code",
   "execution_count": 22,
   "id": "6cec7c9e",
   "metadata": {},
   "outputs": [
    {
     "data": {
      "application/vnd.microsoft.datawrangler.viewer.v0+json": {
       "columns": [
        {
         "name": "index",
         "rawType": "int64",
         "type": "integer"
        },
        {
         "name": "final_bankroll",
         "rawType": "float64",
         "type": "float"
        },
        {
         "name": "rounds_played",
         "rawType": "float64",
         "type": "float"
        },
        {
         "name": "initial_bankroll",
         "rawType": "float64",
         "type": "float"
        }
       ],
       "conversionMethod": "pd.DataFrame",
       "ref": "fd618598-b600-459f-8ee8-630be81274ef",
       "rows": [
        [
         "1",
         "30.0",
         "10.0",
         "100.0"
        ]
       ],
       "shape": {
        "columns": 3,
        "rows": 1
       }
      },
      "text/html": [
       "<div>\n",
       "<style scoped>\n",
       "    .dataframe tbody tr th:only-of-type {\n",
       "        vertical-align: middle;\n",
       "    }\n",
       "\n",
       "    .dataframe tbody tr th {\n",
       "        vertical-align: top;\n",
       "    }\n",
       "\n",
       "    .dataframe thead th {\n",
       "        text-align: right;\n",
       "    }\n",
       "</style>\n",
       "<table border=\"1\" class=\"dataframe\">\n",
       "  <thead>\n",
       "    <tr style=\"text-align: right;\">\n",
       "      <th></th>\n",
       "      <th>final_bankroll</th>\n",
       "      <th>rounds_played</th>\n",
       "      <th>initial_bankroll</th>\n",
       "    </tr>\n",
       "  </thead>\n",
       "  <tbody>\n",
       "    <tr>\n",
       "      <th>1</th>\n",
       "      <td>30.0</td>\n",
       "      <td>10.0</td>\n",
       "      <td>100.0</td>\n",
       "    </tr>\n",
       "  </tbody>\n",
       "</table>\n",
       "</div>"
      ],
      "text/plain": [
       "   final_bankroll  rounds_played  initial_bankroll\n",
       "1            30.0           10.0             100.0"
      ]
     },
     "execution_count": 22,
     "metadata": {},
     "output_type": "execute_result"
    }
   ],
   "source": [
    "final_results = df[['final_bankroll', 'rounds_played', 'initial_bankroll']].dropna()\n",
    "final_results"
   ]
  },
  {
   "cell_type": "code",
   "execution_count": 53,
   "id": "57f271d0",
   "metadata": {},
   "outputs": [
    {
     "data": {
      "application/vnd.microsoft.datawrangler.viewer.v0+json": {
       "columns": [
        {
         "name": "index",
         "rawType": "int64",
         "type": "integer"
        },
        {
         "name": "round",
         "rawType": "int64",
         "type": "integer"
        },
        {
         "name": "game",
         "rawType": "int64",
         "type": "integer"
        },
        {
         "name": "round_outcomes",
         "rawType": "object",
         "type": "unknown"
        }
       ],
       "conversionMethod": "pd.DataFrame",
       "ref": "1ff43bfc-8961-4cd6-a562-5fdf5599d4b3",
       "rows": [
        [
         "0",
         "0",
         "1",
         "5"
        ],
        [
         "1",
         "0",
         "1",
         "-5"
        ],
        [
         "2",
         "0",
         "1",
         "-5"
        ],
        [
         "3",
         "0",
         "1",
         "-5"
        ],
        [
         "4",
         "0",
         "1",
         "5"
        ],
        [
         "5",
         "1",
         "2",
         "-5"
        ],
        [
         "6",
         "1",
         "2",
         "-5"
        ],
        [
         "7",
         "1",
         "2",
         "-5"
        ],
        [
         "8",
         "1",
         "2",
         "-5"
        ],
        [
         "9",
         "1",
         "2",
         "-5"
        ]
       ],
       "shape": {
        "columns": 3,
        "rows": 10
       }
      },
      "text/html": [
       "<div>\n",
       "<style scoped>\n",
       "    .dataframe tbody tr th:only-of-type {\n",
       "        vertical-align: middle;\n",
       "    }\n",
       "\n",
       "    .dataframe tbody tr th {\n",
       "        vertical-align: top;\n",
       "    }\n",
       "\n",
       "    .dataframe thead th {\n",
       "        text-align: right;\n",
       "    }\n",
       "</style>\n",
       "<table border=\"1\" class=\"dataframe\">\n",
       "  <thead>\n",
       "    <tr style=\"text-align: right;\">\n",
       "      <th></th>\n",
       "      <th>round</th>\n",
       "      <th>game</th>\n",
       "      <th>round_outcomes</th>\n",
       "    </tr>\n",
       "  </thead>\n",
       "  <tbody>\n",
       "    <tr>\n",
       "      <th>0</th>\n",
       "      <td>0</td>\n",
       "      <td>1</td>\n",
       "      <td>5</td>\n",
       "    </tr>\n",
       "    <tr>\n",
       "      <th>1</th>\n",
       "      <td>0</td>\n",
       "      <td>1</td>\n",
       "      <td>-5</td>\n",
       "    </tr>\n",
       "    <tr>\n",
       "      <th>2</th>\n",
       "      <td>0</td>\n",
       "      <td>1</td>\n",
       "      <td>-5</td>\n",
       "    </tr>\n",
       "    <tr>\n",
       "      <th>3</th>\n",
       "      <td>0</td>\n",
       "      <td>1</td>\n",
       "      <td>-5</td>\n",
       "    </tr>\n",
       "    <tr>\n",
       "      <th>4</th>\n",
       "      <td>0</td>\n",
       "      <td>1</td>\n",
       "      <td>5</td>\n",
       "    </tr>\n",
       "    <tr>\n",
       "      <th>5</th>\n",
       "      <td>1</td>\n",
       "      <td>2</td>\n",
       "      <td>-5</td>\n",
       "    </tr>\n",
       "    <tr>\n",
       "      <th>6</th>\n",
       "      <td>1</td>\n",
       "      <td>2</td>\n",
       "      <td>-5</td>\n",
       "    </tr>\n",
       "    <tr>\n",
       "      <th>7</th>\n",
       "      <td>1</td>\n",
       "      <td>2</td>\n",
       "      <td>-5</td>\n",
       "    </tr>\n",
       "    <tr>\n",
       "      <th>8</th>\n",
       "      <td>1</td>\n",
       "      <td>2</td>\n",
       "      <td>-5</td>\n",
       "    </tr>\n",
       "    <tr>\n",
       "      <th>9</th>\n",
       "      <td>1</td>\n",
       "      <td>2</td>\n",
       "      <td>-5</td>\n",
       "    </tr>\n",
       "  </tbody>\n",
       "</table>\n",
       "</div>"
      ],
      "text/plain": [
       "   round  game round_outcomes\n",
       "0      0     1              5\n",
       "1      0     1             -5\n",
       "2      0     1             -5\n",
       "3      0     1             -5\n",
       "4      0     1              5\n",
       "5      1     2             -5\n",
       "6      1     2             -5\n",
       "7      1     2             -5\n",
       "8      1     2             -5\n",
       "9      1     2             -5"
      ]
     },
     "execution_count": 53,
     "metadata": {},
     "output_type": "execute_result"
    }
   ],
   "source": [
    "game_data = df[['round_outcomes']].dropna().reset_index(names='game')\n",
    "game_data = game_data.explode('round_outcomes').reset_index(names='round')\n",
    "\n",
    "game_data\n"
   ]
  },
  {
   "cell_type": "markdown",
   "id": "96cca4b1",
   "metadata": {},
   "source": [
    "## Exploratory Analysis"
   ]
  },
  {
   "cell_type": "code",
   "execution_count": 38,
   "id": "24212c85",
   "metadata": {},
   "outputs": [],
   "source": [
    "import pandas as pd\n",
    "import matplotlib.pyplot as plt"
   ]
  },
  {
   "cell_type": "code",
   "execution_count": null,
   "id": "8f6b132c",
   "metadata": {},
   "outputs": [],
   "source": [
    "plt.plot()"
   ]
  }
 ],
 "metadata": {
  "kernelspec": {
   "display_name": "Python 3",
   "language": "python",
   "name": "python3"
  },
  "language_info": {
   "codemirror_mode": {
    "name": "ipython",
    "version": 3
   },
   "file_extension": ".py",
   "mimetype": "text/x-python",
   "name": "python",
   "nbconvert_exporter": "python",
   "pygments_lexer": "ipython3",
   "version": "3.9.13"
  }
 },
 "nbformat": 4,
 "nbformat_minor": 5
}
