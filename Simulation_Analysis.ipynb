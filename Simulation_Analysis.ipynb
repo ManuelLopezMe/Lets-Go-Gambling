{
 "cells": [
  {
   "cell_type": "markdown",
   "id": "ca30f125",
   "metadata": {},
   "source": [
    "## Data Cleaning\n",
    "\n",
    "Using a test run dataset, I show how json data was extracted and converted into read dataframes"
   ]
  },
  {
   "cell_type": "code",
   "execution_count": 3,
   "id": "bae3809a",
   "metadata": {},
   "outputs": [],
   "source": [
    "import json\n",
    "import pandas as pd"
   ]
  },
  {
   "cell_type": "code",
   "execution_count": 2,
   "id": "8adfdc7c",
   "metadata": {},
   "outputs": [],
   "source": [
    "with open('data/test-run.json', 'r') as file:\n",
    "    data = json.load(file)"
   ]
  },
  {
   "cell_type": "code",
   "execution_count": 3,
   "id": "812bb5b1",
   "metadata": {},
   "outputs": [
    {
     "data": {
      "text/plain": [
       "[{'number_of_runs': 2, 'number_of_simulation_iterations': 500},\n",
       " {'final_bankroll': 70,\n",
       "  'rounds_played': 5,\n",
       "  'initial_bankroll': 100,\n",
       "  'round_outcomes': [5, -5, -5, -5, 5]},\n",
       " {'final_bankroll': 50,\n",
       "  'rounds_played': 5,\n",
       "  'initial_bankroll': 100,\n",
       "  'round_outcomes': [-5, -5, -5, -5, -5]}]"
      ]
     },
     "execution_count": 3,
     "metadata": {},
     "output_type": "execute_result"
    }
   ],
   "source": [
    "data"
   ]
  },
  {
   "cell_type": "code",
   "execution_count": 4,
   "id": "da48455b",
   "metadata": {},
   "outputs": [
    {
     "data": {
      "application/vnd.microsoft.datawrangler.viewer.v0+json": {
       "columns": [
        {
         "name": "index",
         "rawType": "int64",
         "type": "integer"
        },
        {
         "name": "number_of_runs",
         "rawType": "float64",
         "type": "float"
        },
        {
         "name": "number_of_simulation_iterations",
         "rawType": "float64",
         "type": "float"
        },
        {
         "name": "final_bankroll",
         "rawType": "float64",
         "type": "float"
        },
        {
         "name": "rounds_played",
         "rawType": "float64",
         "type": "float"
        },
        {
         "name": "initial_bankroll",
         "rawType": "float64",
         "type": "float"
        },
        {
         "name": "round_outcomes",
         "rawType": "object",
         "type": "unknown"
        }
       ],
       "conversionMethod": "pd.DataFrame",
       "ref": "d9f951af-4779-453e-b49a-c2c56ecd3543",
       "rows": [
        [
         "0",
         "2.0",
         "500.0",
         null,
         null,
         null,
         null
        ],
        [
         "1",
         null,
         null,
         "70.0",
         "5.0",
         "100.0",
         "[5, -5, -5, -5, 5]"
        ],
        [
         "2",
         null,
         null,
         "50.0",
         "5.0",
         "100.0",
         "[-5, -5, -5, -5, -5]"
        ]
       ],
       "shape": {
        "columns": 6,
        "rows": 3
       }
      },
      "text/html": [
       "<div>\n",
       "<style scoped>\n",
       "    .dataframe tbody tr th:only-of-type {\n",
       "        vertical-align: middle;\n",
       "    }\n",
       "\n",
       "    .dataframe tbody tr th {\n",
       "        vertical-align: top;\n",
       "    }\n",
       "\n",
       "    .dataframe thead th {\n",
       "        text-align: right;\n",
       "    }\n",
       "</style>\n",
       "<table border=\"1\" class=\"dataframe\">\n",
       "  <thead>\n",
       "    <tr style=\"text-align: right;\">\n",
       "      <th></th>\n",
       "      <th>number_of_runs</th>\n",
       "      <th>number_of_simulation_iterations</th>\n",
       "      <th>final_bankroll</th>\n",
       "      <th>rounds_played</th>\n",
       "      <th>initial_bankroll</th>\n",
       "      <th>round_outcomes</th>\n",
       "    </tr>\n",
       "  </thead>\n",
       "  <tbody>\n",
       "    <tr>\n",
       "      <th>0</th>\n",
       "      <td>2.0</td>\n",
       "      <td>500.0</td>\n",
       "      <td>NaN</td>\n",
       "      <td>NaN</td>\n",
       "      <td>NaN</td>\n",
       "      <td>NaN</td>\n",
       "    </tr>\n",
       "    <tr>\n",
       "      <th>1</th>\n",
       "      <td>NaN</td>\n",
       "      <td>NaN</td>\n",
       "      <td>70.0</td>\n",
       "      <td>5.0</td>\n",
       "      <td>100.0</td>\n",
       "      <td>[5, -5, -5, -5, 5]</td>\n",
       "    </tr>\n",
       "    <tr>\n",
       "      <th>2</th>\n",
       "      <td>NaN</td>\n",
       "      <td>NaN</td>\n",
       "      <td>50.0</td>\n",
       "      <td>5.0</td>\n",
       "      <td>100.0</td>\n",
       "      <td>[-5, -5, -5, -5, -5]</td>\n",
       "    </tr>\n",
       "  </tbody>\n",
       "</table>\n",
       "</div>"
      ],
      "text/plain": [
       "   number_of_runs  number_of_simulation_iterations  final_bankroll  \\\n",
       "0             2.0                            500.0             NaN   \n",
       "1             NaN                              NaN            70.0   \n",
       "2             NaN                              NaN            50.0   \n",
       "\n",
       "   rounds_played  initial_bankroll        round_outcomes  \n",
       "0            NaN               NaN                   NaN  \n",
       "1            5.0             100.0    [5, -5, -5, -5, 5]  \n",
       "2            5.0             100.0  [-5, -5, -5, -5, -5]  "
      ]
     },
     "execution_count": 4,
     "metadata": {},
     "output_type": "execute_result"
    }
   ],
   "source": [
    "df = pd.read_json('data/test-run.json')\n",
    "df"
   ]
  },
  {
   "cell_type": "code",
   "execution_count": 5,
   "id": "78d6cf75",
   "metadata": {},
   "outputs": [
    {
     "data": {
      "application/vnd.microsoft.datawrangler.viewer.v0+json": {
       "columns": [
        {
         "name": "index",
         "rawType": "int64",
         "type": "integer"
        },
        {
         "name": "number_of_runs",
         "rawType": "float64",
         "type": "float"
        },
        {
         "name": "number_of_simulation_iterations",
         "rawType": "float64",
         "type": "float"
        }
       ],
       "conversionMethod": "pd.DataFrame",
       "ref": "987d87f2-3171-4f12-bc90-dc94fab113db",
       "rows": [
        [
         "0",
         "2.0",
         "500.0"
        ]
       ],
       "shape": {
        "columns": 2,
        "rows": 1
       }
      },
      "text/html": [
       "<div>\n",
       "<style scoped>\n",
       "    .dataframe tbody tr th:only-of-type {\n",
       "        vertical-align: middle;\n",
       "    }\n",
       "\n",
       "    .dataframe tbody tr th {\n",
       "        vertical-align: top;\n",
       "    }\n",
       "\n",
       "    .dataframe thead th {\n",
       "        text-align: right;\n",
       "    }\n",
       "</style>\n",
       "<table border=\"1\" class=\"dataframe\">\n",
       "  <thead>\n",
       "    <tr style=\"text-align: right;\">\n",
       "      <th></th>\n",
       "      <th>number_of_runs</th>\n",
       "      <th>number_of_simulation_iterations</th>\n",
       "    </tr>\n",
       "  </thead>\n",
       "  <tbody>\n",
       "    <tr>\n",
       "      <th>0</th>\n",
       "      <td>2.0</td>\n",
       "      <td>500.0</td>\n",
       "    </tr>\n",
       "  </tbody>\n",
       "</table>\n",
       "</div>"
      ],
      "text/plain": [
       "   number_of_runs  number_of_simulation_iterations\n",
       "0             2.0                            500.0"
      ]
     },
     "execution_count": 5,
     "metadata": {},
     "output_type": "execute_result"
    }
   ],
   "source": [
    "metadata = df[['number_of_runs', 'number_of_simulation_iterations']].dropna()\n",
    "metadata"
   ]
  },
  {
   "cell_type": "code",
   "execution_count": 6,
   "id": "6cec7c9e",
   "metadata": {},
   "outputs": [
    {
     "data": {
      "application/vnd.microsoft.datawrangler.viewer.v0+json": {
       "columns": [
        {
         "name": "index",
         "rawType": "int64",
         "type": "integer"
        },
        {
         "name": "final_bankroll",
         "rawType": "float64",
         "type": "float"
        },
        {
         "name": "rounds_played",
         "rawType": "float64",
         "type": "float"
        },
        {
         "name": "initial_bankroll",
         "rawType": "float64",
         "type": "float"
        }
       ],
       "conversionMethod": "pd.DataFrame",
       "ref": "6d9fb4a1-5c0f-4bf0-9d43-e783608f1fee",
       "rows": [
        [
         "1",
         "70.0",
         "5.0",
         "100.0"
        ],
        [
         "2",
         "50.0",
         "5.0",
         "100.0"
        ]
       ],
       "shape": {
        "columns": 3,
        "rows": 2
       }
      },
      "text/html": [
       "<div>\n",
       "<style scoped>\n",
       "    .dataframe tbody tr th:only-of-type {\n",
       "        vertical-align: middle;\n",
       "    }\n",
       "\n",
       "    .dataframe tbody tr th {\n",
       "        vertical-align: top;\n",
       "    }\n",
       "\n",
       "    .dataframe thead th {\n",
       "        text-align: right;\n",
       "    }\n",
       "</style>\n",
       "<table border=\"1\" class=\"dataframe\">\n",
       "  <thead>\n",
       "    <tr style=\"text-align: right;\">\n",
       "      <th></th>\n",
       "      <th>final_bankroll</th>\n",
       "      <th>rounds_played</th>\n",
       "      <th>initial_bankroll</th>\n",
       "    </tr>\n",
       "  </thead>\n",
       "  <tbody>\n",
       "    <tr>\n",
       "      <th>1</th>\n",
       "      <td>70.0</td>\n",
       "      <td>5.0</td>\n",
       "      <td>100.0</td>\n",
       "    </tr>\n",
       "    <tr>\n",
       "      <th>2</th>\n",
       "      <td>50.0</td>\n",
       "      <td>5.0</td>\n",
       "      <td>100.0</td>\n",
       "    </tr>\n",
       "  </tbody>\n",
       "</table>\n",
       "</div>"
      ],
      "text/plain": [
       "   final_bankroll  rounds_played  initial_bankroll\n",
       "1            70.0            5.0             100.0\n",
       "2            50.0            5.0             100.0"
      ]
     },
     "execution_count": 6,
     "metadata": {},
     "output_type": "execute_result"
    }
   ],
   "source": [
    "final_results = df[['final_bankroll', 'rounds_played', 'initial_bankroll']].dropna()\n",
    "final_results"
   ]
  },
  {
   "cell_type": "code",
   "execution_count": 7,
   "id": "57f271d0",
   "metadata": {},
   "outputs": [
    {
     "data": {
      "application/vnd.microsoft.datawrangler.viewer.v0+json": {
       "columns": [
        {
         "name": "index",
         "rawType": "int64",
         "type": "integer"
        },
        {
         "name": "round",
         "rawType": "int64",
         "type": "integer"
        },
        {
         "name": "game",
         "rawType": "int64",
         "type": "integer"
        },
        {
         "name": "round_outcomes",
         "rawType": "object",
         "type": "unknown"
        }
       ],
       "conversionMethod": "pd.DataFrame",
       "ref": "7b62462f-bed6-476a-b6ce-6ffcd053e3e6",
       "rows": [
        [
         "0",
         "0",
         "1",
         "5"
        ],
        [
         "1",
         "0",
         "1",
         "-5"
        ],
        [
         "2",
         "0",
         "1",
         "-5"
        ],
        [
         "3",
         "0",
         "1",
         "-5"
        ],
        [
         "4",
         "0",
         "1",
         "5"
        ],
        [
         "5",
         "1",
         "2",
         "-5"
        ],
        [
         "6",
         "1",
         "2",
         "-5"
        ],
        [
         "7",
         "1",
         "2",
         "-5"
        ],
        [
         "8",
         "1",
         "2",
         "-5"
        ],
        [
         "9",
         "1",
         "2",
         "-5"
        ]
       ],
       "shape": {
        "columns": 3,
        "rows": 10
       }
      },
      "text/html": [
       "<div>\n",
       "<style scoped>\n",
       "    .dataframe tbody tr th:only-of-type {\n",
       "        vertical-align: middle;\n",
       "    }\n",
       "\n",
       "    .dataframe tbody tr th {\n",
       "        vertical-align: top;\n",
       "    }\n",
       "\n",
       "    .dataframe thead th {\n",
       "        text-align: right;\n",
       "    }\n",
       "</style>\n",
       "<table border=\"1\" class=\"dataframe\">\n",
       "  <thead>\n",
       "    <tr style=\"text-align: right;\">\n",
       "      <th></th>\n",
       "      <th>round</th>\n",
       "      <th>game</th>\n",
       "      <th>round_outcomes</th>\n",
       "    </tr>\n",
       "  </thead>\n",
       "  <tbody>\n",
       "    <tr>\n",
       "      <th>0</th>\n",
       "      <td>0</td>\n",
       "      <td>1</td>\n",
       "      <td>5</td>\n",
       "    </tr>\n",
       "    <tr>\n",
       "      <th>1</th>\n",
       "      <td>0</td>\n",
       "      <td>1</td>\n",
       "      <td>-5</td>\n",
       "    </tr>\n",
       "    <tr>\n",
       "      <th>2</th>\n",
       "      <td>0</td>\n",
       "      <td>1</td>\n",
       "      <td>-5</td>\n",
       "    </tr>\n",
       "    <tr>\n",
       "      <th>3</th>\n",
       "      <td>0</td>\n",
       "      <td>1</td>\n",
       "      <td>-5</td>\n",
       "    </tr>\n",
       "    <tr>\n",
       "      <th>4</th>\n",
       "      <td>0</td>\n",
       "      <td>1</td>\n",
       "      <td>5</td>\n",
       "    </tr>\n",
       "    <tr>\n",
       "      <th>5</th>\n",
       "      <td>1</td>\n",
       "      <td>2</td>\n",
       "      <td>-5</td>\n",
       "    </tr>\n",
       "    <tr>\n",
       "      <th>6</th>\n",
       "      <td>1</td>\n",
       "      <td>2</td>\n",
       "      <td>-5</td>\n",
       "    </tr>\n",
       "    <tr>\n",
       "      <th>7</th>\n",
       "      <td>1</td>\n",
       "      <td>2</td>\n",
       "      <td>-5</td>\n",
       "    </tr>\n",
       "    <tr>\n",
       "      <th>8</th>\n",
       "      <td>1</td>\n",
       "      <td>2</td>\n",
       "      <td>-5</td>\n",
       "    </tr>\n",
       "    <tr>\n",
       "      <th>9</th>\n",
       "      <td>1</td>\n",
       "      <td>2</td>\n",
       "      <td>-5</td>\n",
       "    </tr>\n",
       "  </tbody>\n",
       "</table>\n",
       "</div>"
      ],
      "text/plain": [
       "   round  game round_outcomes\n",
       "0      0     1              5\n",
       "1      0     1             -5\n",
       "2      0     1             -5\n",
       "3      0     1             -5\n",
       "4      0     1              5\n",
       "5      1     2             -5\n",
       "6      1     2             -5\n",
       "7      1     2             -5\n",
       "8      1     2             -5\n",
       "9      1     2             -5"
      ]
     },
     "execution_count": 7,
     "metadata": {},
     "output_type": "execute_result"
    }
   ],
   "source": [
    "game_data = df[['round_outcomes']].dropna().reset_index(names='game')\n",
    "game_data = game_data.explode('round_outcomes').reset_index(names='round')\n",
    "\n",
    "game_data\n"
   ]
  },
  {
   "cell_type": "markdown",
   "id": "96cca4b1",
   "metadata": {},
   "source": [
    "## Exploratory Analysis"
   ]
  },
  {
   "cell_type": "code",
   "execution_count": 1,
   "id": "24212c85",
   "metadata": {},
   "outputs": [],
   "source": [
    "import pandas as pd\n",
    "import matplotlib.pyplot as plt"
   ]
  },
  {
   "cell_type": "code",
   "execution_count": 10,
   "id": "2172f215",
   "metadata": {},
   "outputs": [],
   "source": [
    "df = pd.read_json('data/test-run-5.json')\n",
    "\n",
    "metadata = df[['number_of_runs', 'number_of_simulation_iterations']].dropna()\n",
    "\n",
    "final_results = df[['final_bankroll', 'rounds_played', 'initial_bankroll']].dropna()\n",
    "\n",
    "game_data = df[['round_outcomes']].dropna().reset_index(names='game')\n",
    "game_data = game_data.explode('round_outcomes').reset_index(names='round')"
   ]
  },
  {
   "cell_type": "code",
   "execution_count": null,
   "id": "8f6b132c",
   "metadata": {},
   "outputs": [],
   "source": []
  },
  {
   "cell_type": "markdown",
   "id": "9f8c1adc",
   "metadata": {},
   "source": [
    "## Visualization"
   ]
  },
  {
   "cell_type": "code",
   "execution_count": 71,
   "id": "5b96f9b7",
   "metadata": {},
   "outputs": [
    {
     "data": {
      "application/vnd.microsoft.datawrangler.viewer.v0+json": {
       "columns": [
        {
         "name": "index",
         "rawType": "int64",
         "type": "integer"
        },
        {
         "name": "id",
         "rawType": "int64",
         "type": "integer"
        },
        {
         "name": "parent_id",
         "rawType": "float64",
         "type": "float"
        },
        {
         "name": "action",
         "rawType": "object",
         "type": "string"
        },
        {
         "name": "hand",
         "rawType": "object",
         "type": "string"
        },
        {
         "name": "value",
         "rawType": "int64",
         "type": "integer"
        },
        {
         "name": "visits",
         "rawType": "int64",
         "type": "integer"
        },
        {
         "name": "best_action",
         "rawType": "object",
         "type": "unknown"
        },
        {
         "name": "hit_uct",
         "rawType": "float64",
         "type": "float"
        },
        {
         "name": "stand_uct",
         "rawType": "float64",
         "type": "float"
        },
        {
         "name": "split_uct",
         "rawType": "float64",
         "type": "float"
        }
       ],
       "conversionMethod": "pd.DataFrame",
       "ref": "be40b996-9900-4a8f-ae99-49b1a805f61f",
       "rows": [
        [
         "0",
         "0",
         null,
         "ROOT",
         "8-K",
         "92",
         "100",
         "stand",
         "1.137236273093429",
         "1.3101028314005836",
         "1.137236273093429"
        ],
        [
         "1",
         "1",
         "0.0",
         "stand",
         "8-K",
         "96",
         "96",
         null,
         null,
         null,
         null
        ],
        [
         "2",
         "2",
         "0.0",
         "hit",
         "8-K-J",
         "-2",
         "2",
         null,
         null,
         null,
         null
        ],
        [
         "3",
         "3",
         "2.0",
         "hit",
         "8-K-J-6",
         "-1",
         "1",
         null,
         null,
         null,
         null
        ],
        [
         "4",
         "4",
         "0.0",
         "double",
         "8-K-J",
         "-2",
         "2",
         null,
         null,
         null,
         null
        ]
       ],
       "shape": {
        "columns": 10,
        "rows": 5
       }
      },
      "text/html": [
       "<div>\n",
       "<style scoped>\n",
       "    .dataframe tbody tr th:only-of-type {\n",
       "        vertical-align: middle;\n",
       "    }\n",
       "\n",
       "    .dataframe tbody tr th {\n",
       "        vertical-align: top;\n",
       "    }\n",
       "\n",
       "    .dataframe thead th {\n",
       "        text-align: right;\n",
       "    }\n",
       "</style>\n",
       "<table border=\"1\" class=\"dataframe\">\n",
       "  <thead>\n",
       "    <tr style=\"text-align: right;\">\n",
       "      <th></th>\n",
       "      <th>id</th>\n",
       "      <th>parent_id</th>\n",
       "      <th>action</th>\n",
       "      <th>hand</th>\n",
       "      <th>value</th>\n",
       "      <th>visits</th>\n",
       "      <th>best_action</th>\n",
       "      <th>hit_uct</th>\n",
       "      <th>stand_uct</th>\n",
       "      <th>split_uct</th>\n",
       "    </tr>\n",
       "  </thead>\n",
       "  <tbody>\n",
       "    <tr>\n",
       "      <th>0</th>\n",
       "      <td>0</td>\n",
       "      <td>NaN</td>\n",
       "      <td>ROOT</td>\n",
       "      <td>8-K</td>\n",
       "      <td>92</td>\n",
       "      <td>100</td>\n",
       "      <td>stand</td>\n",
       "      <td>1.137236</td>\n",
       "      <td>1.310103</td>\n",
       "      <td>1.137236</td>\n",
       "    </tr>\n",
       "    <tr>\n",
       "      <th>1</th>\n",
       "      <td>1</td>\n",
       "      <td>0.0</td>\n",
       "      <td>stand</td>\n",
       "      <td>8-K</td>\n",
       "      <td>96</td>\n",
       "      <td>96</td>\n",
       "      <td>None</td>\n",
       "      <td>NaN</td>\n",
       "      <td>NaN</td>\n",
       "      <td>NaN</td>\n",
       "    </tr>\n",
       "    <tr>\n",
       "      <th>2</th>\n",
       "      <td>2</td>\n",
       "      <td>0.0</td>\n",
       "      <td>hit</td>\n",
       "      <td>8-K-J</td>\n",
       "      <td>-2</td>\n",
       "      <td>2</td>\n",
       "      <td>None</td>\n",
       "      <td>NaN</td>\n",
       "      <td>NaN</td>\n",
       "      <td>NaN</td>\n",
       "    </tr>\n",
       "    <tr>\n",
       "      <th>3</th>\n",
       "      <td>3</td>\n",
       "      <td>2.0</td>\n",
       "      <td>hit</td>\n",
       "      <td>8-K-J-6</td>\n",
       "      <td>-1</td>\n",
       "      <td>1</td>\n",
       "      <td>None</td>\n",
       "      <td>NaN</td>\n",
       "      <td>NaN</td>\n",
       "      <td>NaN</td>\n",
       "    </tr>\n",
       "    <tr>\n",
       "      <th>4</th>\n",
       "      <td>4</td>\n",
       "      <td>0.0</td>\n",
       "      <td>double</td>\n",
       "      <td>8-K-J</td>\n",
       "      <td>-2</td>\n",
       "      <td>2</td>\n",
       "      <td>None</td>\n",
       "      <td>NaN</td>\n",
       "      <td>NaN</td>\n",
       "      <td>NaN</td>\n",
       "    </tr>\n",
       "  </tbody>\n",
       "</table>\n",
       "</div>"
      ],
      "text/plain": [
       "   id  parent_id  action     hand  value  visits best_action   hit_uct  \\\n",
       "0   0        NaN    ROOT      8-K     92     100       stand  1.137236   \n",
       "1   1        0.0   stand      8-K     96      96        None       NaN   \n",
       "2   2        0.0     hit    8-K-J     -2       2        None       NaN   \n",
       "3   3        2.0     hit  8-K-J-6     -1       1        None       NaN   \n",
       "4   4        0.0  double    8-K-J     -2       2        None       NaN   \n",
       "\n",
       "   stand_uct  split_uct  \n",
       "0   1.310103   1.137236  \n",
       "1        NaN        NaN  \n",
       "2        NaN        NaN  \n",
       "3        NaN        NaN  \n",
       "4        NaN        NaN  "
      ]
     },
     "execution_count": 71,
     "metadata": {},
     "output_type": "execute_result"
    }
   ],
   "source": [
    "with open(\"misc/MCTS_example_data/mcts_tree_2.json\", \"r\") as f:\n",
    "    data = json.load(f)\n",
    "\n",
    "# Flatten into a DataFrame\n",
    "rows = []\n",
    "for node in data:\n",
    "    rows.append({\n",
    "        \"id\": node[\"id\"],\n",
    "        \"parent_id\": node[\"parent_id\"],\n",
    "        \"action\": node[\"action_history\"][-1] if node[\"action_history\"] else \"ROOT\",\n",
    "        \"hand\": \"-\".join(node[\"agent_hand\"][0]),\n",
    "        \"value\": node[\"value\"],\n",
    "        \"visits\": node[\"visits\"],\n",
    "        \"best_action\": node[\"best_action\"],\n",
    "        \"hit_uct\": node['uct_values'].get('hit') if node['uct_values'].get('hit') else None,\n",
    "        \"stand_uct\": node['uct_values'].get('stand') if node['uct_values'].get('stand') else None,\n",
    "        \"split_uct\": node['uct_values'].get('split') if node['uct_values'].get('split') else None,\n",
    "        \"split_uct\": node['uct_values'].get('double') if node['uct_values'].get('double') else None\n",
    "            })\n",
    "        \n",
    "        # \"stand_uct\": [i for i in node['uct_values']['stand'] if node['action_history'][-1] == 'stand' else None,\n",
    "        # \"double_uct\": node['uct_values']['double'] if node['action_history'][-1] == 'double' else None,\n",
    "        # \"split_uct\": node['uct_values']['split'] if node['action_history'][-1] == 'split' else None,\n",
    "\n",
    "df = pd.DataFrame(rows)\n",
    "df\n",
    "#df.to_csv(\"mcts_tree_flat.csv\", index=False)"
   ]
  },
  {
   "cell_type": "code",
   "execution_count": 68,
   "id": "9038d6b9",
   "metadata": {},
   "outputs": [
    {
     "name": "stdout",
     "output_type": "stream",
     "text": [
      "<class 'dict'>\n",
      "{'stand': 1.3101028314005836, 'hit': 1.137236273093429, 'double': 1.137236273093429}\n",
      "1.137236273093429\n",
      "<class 'dict'>\n",
      "{}\n",
      "None\n",
      "<class 'dict'>\n",
      "{}\n",
      "None\n",
      "<class 'dict'>\n",
      "{}\n",
      "None\n",
      "<class 'dict'>\n",
      "{}\n",
      "None\n"
     ]
    }
   ],
   "source": [
    "for node in data:\n",
    "    print(type(node['uct_values']))\n",
    "    print(node['uct_values'])\n",
    "    print(node['uct_values'].get('hit') )#if node[\"action_history\"][-1] is not None else None)\n",
    "    \n"
   ]
  },
  {
   "cell_type": "code",
   "execution_count": 4,
   "id": "075c7a0f",
   "metadata": {},
   "outputs": [
    {
     "data": {
      "application/vnd.microsoft.datawrangler.viewer.v0+json": {
       "columns": [
        {
         "name": "index",
         "rawType": "int64",
         "type": "integer"
        },
        {
         "name": "id",
         "rawType": "int64",
         "type": "integer"
        },
        {
         "name": "parent_id",
         "rawType": "float64",
         "type": "float"
        },
        {
         "name": "action",
         "rawType": "object",
         "type": "string"
        },
        {
         "name": "hand",
         "rawType": "object",
         "type": "string"
        },
        {
         "name": "value",
         "rawType": "int64",
         "type": "integer"
        },
        {
         "name": "visits",
         "rawType": "int64",
         "type": "integer"
        },
        {
         "name": "best_action",
         "rawType": "object",
         "type": "unknown"
        }
       ],
       "conversionMethod": "pd.DataFrame",
       "ref": "5b16ac80-d4cb-4599-8acd-2706ac7e8021",
       "rows": [
        [
         "0",
         "0",
         null,
         "ROOT",
         "8-K",
         "92",
         "100",
         "stand"
        ],
        [
         "1",
         "1",
         "0.0",
         "stand",
         "8-K",
         "96",
         "96",
         null
        ],
        [
         "2",
         "2",
         "0.0",
         "hit",
         "8-K-J",
         "-2",
         "2",
         null
        ],
        [
         "3",
         "3",
         "2.0",
         "hit",
         "8-K-J-6",
         "-1",
         "1",
         null
        ],
        [
         "4",
         "4",
         "0.0",
         "double",
         "8-K-J",
         "-2",
         "2",
         null
        ]
       ],
       "shape": {
        "columns": 7,
        "rows": 5
       }
      },
      "text/html": [
       "<div>\n",
       "<style scoped>\n",
       "    .dataframe tbody tr th:only-of-type {\n",
       "        vertical-align: middle;\n",
       "    }\n",
       "\n",
       "    .dataframe tbody tr th {\n",
       "        vertical-align: top;\n",
       "    }\n",
       "\n",
       "    .dataframe thead th {\n",
       "        text-align: right;\n",
       "    }\n",
       "</style>\n",
       "<table border=\"1\" class=\"dataframe\">\n",
       "  <thead>\n",
       "    <tr style=\"text-align: right;\">\n",
       "      <th></th>\n",
       "      <th>id</th>\n",
       "      <th>parent_id</th>\n",
       "      <th>action</th>\n",
       "      <th>hand</th>\n",
       "      <th>value</th>\n",
       "      <th>visits</th>\n",
       "      <th>best_action</th>\n",
       "    </tr>\n",
       "  </thead>\n",
       "  <tbody>\n",
       "    <tr>\n",
       "      <th>0</th>\n",
       "      <td>0</td>\n",
       "      <td>NaN</td>\n",
       "      <td>ROOT</td>\n",
       "      <td>8-K</td>\n",
       "      <td>92</td>\n",
       "      <td>100</td>\n",
       "      <td>stand</td>\n",
       "    </tr>\n",
       "    <tr>\n",
       "      <th>1</th>\n",
       "      <td>1</td>\n",
       "      <td>0.0</td>\n",
       "      <td>stand</td>\n",
       "      <td>8-K</td>\n",
       "      <td>96</td>\n",
       "      <td>96</td>\n",
       "      <td>None</td>\n",
       "    </tr>\n",
       "    <tr>\n",
       "      <th>2</th>\n",
       "      <td>2</td>\n",
       "      <td>0.0</td>\n",
       "      <td>hit</td>\n",
       "      <td>8-K-J</td>\n",
       "      <td>-2</td>\n",
       "      <td>2</td>\n",
       "      <td>None</td>\n",
       "    </tr>\n",
       "    <tr>\n",
       "      <th>3</th>\n",
       "      <td>3</td>\n",
       "      <td>2.0</td>\n",
       "      <td>hit</td>\n",
       "      <td>8-K-J-6</td>\n",
       "      <td>-1</td>\n",
       "      <td>1</td>\n",
       "      <td>None</td>\n",
       "    </tr>\n",
       "    <tr>\n",
       "      <th>4</th>\n",
       "      <td>4</td>\n",
       "      <td>0.0</td>\n",
       "      <td>double</td>\n",
       "      <td>8-K-J</td>\n",
       "      <td>-2</td>\n",
       "      <td>2</td>\n",
       "      <td>None</td>\n",
       "    </tr>\n",
       "  </tbody>\n",
       "</table>\n",
       "</div>"
      ],
      "text/plain": [
       "   id  parent_id  action     hand  value  visits best_action\n",
       "0   0        NaN    ROOT      8-K     92     100       stand\n",
       "1   1        0.0   stand      8-K     96      96        None\n",
       "2   2        0.0     hit    8-K-J     -2       2        None\n",
       "3   3        2.0     hit  8-K-J-6     -1       1        None\n",
       "4   4        0.0  double    8-K-J     -2       2        None"
      ]
     },
     "execution_count": 4,
     "metadata": {},
     "output_type": "execute_result"
    }
   ],
   "source": [
    "df"
   ]
  },
  {
   "cell_type": "code",
   "execution_count": 13,
   "id": "88fd88e9",
   "metadata": {},
   "outputs": [
    {
     "name": "stdout",
     "output_type": "stream",
     "text": [
      "-0.473848801139635\n",
      "-0.3408619888942307\n",
      "-0.11261349710150803\n"
     ]
    },
    {
     "ename": "KeyError",
     "evalue": "'hit'",
     "output_type": "error",
     "traceback": [
      "\u001b[1;31m---------------------------------------------------------------------------\u001b[0m",
      "\u001b[1;31mKeyError\u001b[0m                                  Traceback (most recent call last)",
      "Cell \u001b[1;32mIn[13], line 2\u001b[0m\n\u001b[0;32m      1\u001b[0m \u001b[38;5;28;01mfor\u001b[39;00m i \u001b[38;5;129;01min\u001b[39;00m data:\n\u001b[1;32m----> 2\u001b[0m     \u001b[38;5;28mprint\u001b[39m(\u001b[43mi\u001b[49m\u001b[43m[\u001b[49m\u001b[38;5;124;43m'\u001b[39;49m\u001b[38;5;124;43muct_values\u001b[39;49m\u001b[38;5;124;43m'\u001b[39;49m\u001b[43m]\u001b[49m\u001b[43m[\u001b[49m\u001b[38;5;124;43m'\u001b[39;49m\u001b[38;5;124;43mhit\u001b[39;49m\u001b[38;5;124;43m'\u001b[39;49m\u001b[43m]\u001b[49m)\n",
      "\u001b[1;31mKeyError\u001b[0m: 'hit'"
     ]
    }
   ],
   "source": [
    "for i in data:\n",
    "    print(i['uct_values']['hit'])"
   ]
  },
  {
   "cell_type": "markdown",
   "id": "09acb9d0",
   "metadata": {},
   "source": [
    "### Decision Tree Graph"
   ]
  },
  {
   "cell_type": "code",
   "execution_count": 4,
   "id": "7e343611",
   "metadata": {},
   "outputs": [],
   "source": [
    "with open(\"misc/mcts_tree_3.json\", \"r\") as f:\n",
    "    data = json.load(f)\n",
    "\n",
    "# Flatten into a DataFrame\n",
    "rows = []\n",
    "for node in data:\n",
    "    rows.append({\n",
    "        \"id\": node[\"id\"],\n",
    "        \"parent_id\": node[\"parent_id\"],\n",
    "        \"action\": node[\"action_history\"][-1] if node[\"action_history\"] else \"ROOT\",\n",
    "        \"hand\": \"-\".join(node[\"agent_hand\"][0]),\n",
    "        \"value\": node[\"value\"],\n",
    "        \"visits\": node[\"visits\"],\n",
    "        \"best_action\": node[\"best_action\"]\n",
    "    })\n",
    "\n",
    "dataset = pd.DataFrame(rows)\n",
    "#dataset.to_csv(\"mcts_tree_flat.csv\", index=False)"
   ]
  },
  {
   "cell_type": "code",
   "execution_count": 5,
   "id": "64e7e908",
   "metadata": {},
   "outputs": [
    {
     "data": {
      "image/png": "[encoded data removed]",
      "text/plain": [
       "<Figure size 1200x800 with 1 Axes>"
      ]
     },
     "metadata": {},
     "output_type": "display_data"
    }
   ],
   "source": [
    "dataset['parent_id'] = dataset['parent_id'].fillna(-1).astype(int)\n",
    "dataset['id'] = dataset['id'].astype(int)\n",
    "\n",
    "node_info = dataset.set_index('id').T.to_dict()\n",
    "# Define parent and child nodes\n",
    "children = {}\n",
    "root_id = None\n",
    "for _, row in dataset.iterrows():\n",
    "    node_id = row['id']\n",
    "    parent_id = row['parent_id']\n",
    "    if parent_id == -1:\n",
    "        root_id = node_id\n",
    "    else:\n",
    "        children.setdefault(parent_id, []).append(node_id)\n",
    "\n",
    "pos = {}\n",
    "levels = {}\n",
    "queue = [(root_id, 0)]\n",
    "visited = set()\n",
    "\n",
    "while queue:\n",
    "    current_node, level = queue.pop(0)\n",
    "    if current_node in visited:\n",
    "        continue\n",
    "    visited.add(current_node)\n",
    "    levels[current_node] = level\n",
    "    for child in children.get(current_node, []):\n",
    "        queue.append((child, level + 1))\n",
    "\n",
    "# Count how many nodes are at each level\n",
    "level_widths = {}\n",
    "for node_id, level in levels.items():\n",
    "    level_widths[level] = level_widths.get(level, 0) + 1\n",
    "\n",
    "level_x_positions = {level: 0 for level in sorted(level_widths)}\n",
    "\n",
    "sorted_nodes = sorted(levels.items(), key=lambda x: (x[1], x[0]))\n",
    "y_spacing = -1\n",
    "x_spacing = 1.5\n",
    "# set x, y position for each node\n",
    "for node_id, level in sorted_nodes:\n",
    "    x = level_x_positions[level] * x_spacing\n",
    "    y = level * y_spacing\n",
    "    pos[node_id] = (x, y)\n",
    "    level_x_positions[level] += 1\n",
    "\n",
    "center_offset = (max(level_widths.values()) - 1) * x_spacing / 2\n",
    "for node_id in pos:\n",
    "    x, y = pos[node_id]\n",
    "    pos[node_id] = (x - center_offset, y)\n",
    "\n",
    "fig, ax = plt.subplots(figsize=(12, 8))\n",
    "\n",
    "# Draw edges \n",
    "for parent_id, child_list in children.items():\n",
    "    if parent_id in pos:\n",
    "        parent_pos = pos[parent_id]\n",
    "        for child_id in child_list:\n",
    "            if child_id in pos:\n",
    "                child_pos = pos[child_id]\n",
    "                ax.plot([parent_pos[0], child_pos[0]], [parent_pos[1], child_pos[1]], 'k-', linewidth=0.5)\n",
    "\n",
    "# Create node labels (ID, value, visits, etc.)\n",
    "for node_id, position in pos.items():\n",
    "    info = node_info.get(node_id, {})\n",
    "    label = f\"ID: {node_id}\\nHand: {info.get('hand', 'N/A')}\\nExpectedValue: {info.get('value', 'N/A')}\\nVisits: {info.get('visits', 'N/A')}\"\n",
    "    if pd.notna(info.get('best_action')):\n",
    "        label += f\"\\nBest Action: {info.get('best_action', 'N/A')}\"\n",
    "    ax.text(position[0], position[1], label, fontsize=8, ha='center', va='center',\n",
    "            bbox=dict(boxstyle='round,pad=0.3', fc='lightblue', alpha=0.5))\n",
    "\n",
    "# Add action labels on edges\n",
    "for parent_id, child_list in children.items():\n",
    "    if parent_id in pos:\n",
    "        parent_pos = pos[parent_id]\n",
    "        for child_id in child_list:\n",
    "            if child_id in pos:\n",
    "                child_pos = pos[child_id]\n",
    "                mid_x = (parent_pos[0] + child_pos[0]) / 2\n",
    "                mid_y = (parent_pos[1] + child_pos[1]) / 2\n",
    "                action = dataset[(dataset['id'] == child_id) & (dataset['parent_id'] == parent_id)].iloc[0]['action']\n",
    "                ax.text(mid_x, mid_y, action, fontsize=7, ha='center', va='center', color='darkgreen',\n",
    "                        bbox=dict(boxstyle='round,pad=0.2', fc='white', alpha=0.7))\n",
    "\n",
    "ax.set_title('MCTS Decision Tree Visualization')\n",
    "ax.axis('off')\n",
    "ax.autoscale_view()\n",
    "plt.tight_layout()\n",
    "plt.show()\n"
   ]
  }
 ],
 "metadata": {
  "kernelspec": {
   "display_name": "Python 3",
   "language": "python",
   "name": "python3"
  },
  "language_info": {
   "codemirror_mode": {
    "name": "ipython",
    "version": 3
   },
   "file_extension": ".py",
   "mimetype": "text/x-python",
   "name": "python",
   "nbconvert_exporter": "python",
   "pygments_lexer": "ipython3",
   "version": "3.9.13"
  }
 },
 "nbformat": 4,
 "nbformat_minor": 5
}
